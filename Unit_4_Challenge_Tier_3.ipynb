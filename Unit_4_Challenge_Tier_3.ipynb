{
  "nbformat": 4,
  "nbformat_minor": 0,
  "metadata": {
    "kernelspec": {
      "display_name": "Python 3",
      "language": "python",
      "name": "python3"
    },
    "language_info": {
      "codemirror_mode": {
        "name": "ipython",
        "version": 3
      },
      "file_extension": ".py",
      "mimetype": "text/x-python",
      "name": "python",
      "nbconvert_exporter": "python",
      "pygments_lexer": "ipython3",
      "version": "3.7.3"
    },
    "colab": {
      "name": "Unit 4 Challenge - Tier 3.ipynb",
      "provenance": [],
      "collapsed_sections": [],
      "include_colab_link": true
    }
  },
  "cells": [
    {
      "cell_type": "markdown",
      "metadata": {
        "id": "view-in-github",
        "colab_type": "text"
      },
      "source": [
        "<a href=\"https://colab.research.google.com/github/clyde2020/Springboard/blob/main/Unit_4_Challenge_Tier_3.ipynb\" target=\"_parent\"><img src=\"https://colab.research.google.com/assets/colab-badge.svg\" alt=\"Open In Colab\"/></a>"
      ]
    },
    {
      "cell_type": "markdown",
      "metadata": {
        "id": "Tia3MP1SJpgj"
      },
      "source": [
        "# Springboard Data Science Career Track Unit 4 Challenge - Tier 3 Complete\n",
        "\n",
        "## Objectives\n",
        "Hey! Great job getting through those challenging DataCamp courses. You're learning a lot in a short span of time. \n",
        "\n",
        "In this notebook, you're going to apply the skills you've been learning, bridging the gap between the controlled environment of DataCamp and the *slightly* messier work that data scientists do with actual datasets!\n",
        "\n",
        "Here’s the mystery we’re going to solve: ***which boroughs of London have seen the greatest increase in housing prices, on average, over the last two decades?***\n",
        "\n",
        "\n",
        "A borough is just a fancy word for district. You may be familiar with the five boroughs of New York… well, there are 32 boroughs within Greater London [(here's some info for the curious)](https://en.wikipedia.org/wiki/London_boroughs). Some of them are more desirable areas to live in, and the data will reflect that with a greater rise in housing prices.\n",
        "\n",
        "***This is the Tier 3 notebook, which means it's not filled in at all: we'll just give you the skeleton of a project, the brief and the data. It's up to you to play around with it and see what you can find out! Good luck! If you struggle, feel free to look at easier tiers for help; but try to dip in and out of them, as the more independent work you do, the better it is for your learning!***\n",
        "\n",
        "This challenge will make use of only what you learned in the following DataCamp courses: \n",
        "- Prework courses (Introduction to Python for Data Science, Intermediate Python for Data Science)\n",
        "- Data Types for Data Science\n",
        "- Python Data Science Toolbox (Part One) \n",
        "- pandas Foundations\n",
        "- Manipulating DataFrames with pandas\n",
        "- Merging DataFrames with pandas\n",
        "\n",
        "Of the tools, techniques and concepts in the above DataCamp courses, this challenge should require the application of the following: \n",
        "- **pandas**\n",
        "    - **data ingestion and inspection** (pandas Foundations, Module One) \n",
        "    - **exploratory data analysis** (pandas Foundations, Module Two)\n",
        "    - **tidying and cleaning** (Manipulating DataFrames with pandas, Module Three) \n",
        "    - **transforming DataFrames** (Manipulating DataFrames with pandas, Module One)\n",
        "    - **subsetting DataFrames with lists** (Manipulating DataFrames with pandas, Module One) \n",
        "    - **filtering DataFrames** (Manipulating DataFrames with pandas, Module One) \n",
        "    - **grouping data** (Manipulating DataFrames with pandas, Module Four) \n",
        "    - **melting data** (Manipulating DataFrames with pandas, Module Three) \n",
        "    - **advanced indexing** (Manipulating DataFrames with pandas, Module Four) \n",
        "- **matplotlib** (Intermediate Python for Data Science, Module One)\n",
        "- **fundamental data types** (Data Types for Data Science, Module One) \n",
        "- **dictionaries** (Intermediate Python for Data Science, Module Two)\n",
        "- **handling dates and times** (Data Types for Data Science, Module Four)\n",
        "- **function definition** (Python Data Science Toolbox - Part One, Module One)\n",
        "- **default arguments, variable length, and scope** (Python Data Science Toolbox - Part One, Module Two) \n",
        "- **lambda functions and error handling** (Python Data Science Toolbox - Part One, Module Four) "
      ]
    },
    {
      "cell_type": "markdown",
      "metadata": {
        "id": "Ipgd2nV8Jpgl"
      },
      "source": [
        "## The Data Science Pipeline\n",
        "\n",
        "This is Tier Three, so we'll get you started. But after that, it's all in your hands! When you feel done with your investigations, look back over what you've accomplished, and prepare a quick presentation of your findings for the next mentor meeting. \n",
        "\n",
        "Data Science is magical. In this case study, you'll get to apply some complex machine learning algorithms. But as  [David Spiegelhalter](https://www.youtube.com/watch?v=oUs1uvsz0Ok) reminds us, there is no substitute for simply **taking a really, really good look at the data.** Sometimes, this is all we need to answer our question.\n",
        "\n",
        "Data Science projects generally adhere to the four stages of Data Science Pipeline:\n",
        "1. Sourcing and loading \n",
        "2. Cleaning, transforming, and visualizing \n",
        "3. Modeling \n",
        "4. Evaluating and concluding \n"
      ]
    },
    {
      "cell_type": "markdown",
      "metadata": {
        "id": "zswDqbefJpgm"
      },
      "source": [
        "### 1. Sourcing and Loading \n",
        "\n",
        "Any Data Science project kicks off by importing  ***pandas***. The documentation of this wonderful library can be found [here](https://pandas.pydata.org/). As you've seen, pandas is conveniently connected to the [Numpy](http://www.numpy.org/) and [Matplotlib](https://matplotlib.org/) libraries. \n",
        "\n",
        "***Hint:*** This part of the data science pipeline will test those skills you acquired in the pandas Foundations course, Module One. "
      ]
    },
    {
      "cell_type": "markdown",
      "metadata": {
        "id": "aEau5nEvJpgm"
      },
      "source": [
        "#### 1.1. Importing Libraries"
      ]
    },
    {
      "cell_type": "code",
      "metadata": {
        "id": "7Bt_Q_oPJpgn"
      },
      "source": [
        "# Let's import the pandas, numpy libraries as pd, and np respectively. \n",
        "import pandas as pd\n",
        "import numpy as np\n",
        "\n",
        "# Load the pyplot collection of functions from matplotlib, as plt \n",
        "import matplotlib.pyplot as plt"
      ],
      "execution_count": 1,
      "outputs": []
    },
    {
      "cell_type": "markdown",
      "metadata": {
        "id": "koUrawxsJpgq"
      },
      "source": [
        "#### 1.2.  Loading the data\n",
        "Your data comes from the [London Datastore](https://data.london.gov.uk/): a free, open-source data-sharing portal for London-oriented datasets. "
      ]
    },
    {
      "cell_type": "code",
      "metadata": {
        "id": "AiLiD4v3Jpgr"
      },
      "source": [
        "# First, make a variable called url_LondonHousePrices, and assign it the following link, enclosed in quotation-marks as a string:\n",
        "# https://data.london.gov.uk/download/uk-house-price-index/70ac0766-8902-4eb5-aab5-01951aaed773/UK%20House%20price%20index.xls\n",
        "\n",
        "url_LondonHousePrices = \"https://data.london.gov.uk/download/uk-house-price-index/70ac0766-8902-4eb5-aab5-01951aaed773/UK%20House%20price%20index.xls\"\n",
        "\n",
        "# The dataset we're interested in contains the Average prices of the houses, and is actually on a particular sheet of the Excel file. \n",
        "# As a result, we need to specify the sheet name in the read_excel() method.\n",
        "# Put this data into a variable called properties.  \n",
        "properties = pd.read_excel(url_LondonHousePrices, sheet_name='Average price', index_col= None)"
      ],
      "execution_count": 2,
      "outputs": []
    },
    {
      "cell_type": "markdown",
      "metadata": {
        "id": "POukEJXgJpgu"
      },
      "source": [
        "### 2. Cleaning, transforming, and visualizing\n",
        "This second stage is arguably the most important part of any Data Science project. The first thing to do is take a proper look at the data. Cleaning forms the majority of this stage, and can be done both before or after Transformation.\n",
        "\n",
        "The end goal of data cleaning is to have tidy data. When data is tidy: \n",
        "\n",
        "1. Each variable has a column.\n",
        "2. Each observation forms a row.\n",
        "\n",
        "Keep the end goal in mind as you move through this process, every step will take you closer. \n",
        "\n",
        "\n",
        "\n",
        "***Hint:*** This part of the data science pipeline should test those skills you acquired in: \n",
        "- Intermediate Python for data science, all modules.\n",
        "- pandas Foundations, all modules. \n",
        "- Manipulating DataFrames with pandas, all modules.\n",
        "- Data Types for Data Science, Module Four.\n",
        "- Python Data Science Toolbox - Part One, all modules"
      ]
    },
    {
      "cell_type": "markdown",
      "metadata": {
        "id": "Te0Q548tnzZa"
      },
      "source": [
        "**2.1. Exploring your data** \n",
        "\n",
        "Think about your pandas functions for checking out a dataframe. "
      ]
    },
    {
      "cell_type": "code",
      "source": [
        "# View the df structure\n",
        "properties.head()"
      ],
      "metadata": {
        "id": "qS_F_ET2keG4"
      },
      "execution_count": null,
      "outputs": []
    },
    {
      "cell_type": "code",
      "source": [
        "# Get df shape\n",
        "properties.shape"
      ],
      "metadata": {
        "colab": {
          "base_uri": "https://localhost:8080/"
        },
        "id": "8ibbIq1Mmq9g",
        "outputId": "d6713be0-bd03-493f-f940-4473f1c5b499"
      },
      "execution_count": 3,
      "outputs": [
        {
          "output_type": "execute_result",
          "data": {
            "text/plain": [
              "(322, 49)"
            ]
          },
          "metadata": {},
          "execution_count": 3
        }
      ]
    },
    {
      "cell_type": "markdown",
      "metadata": {
        "id": "tE9Sqt9-oAta"
      },
      "source": [
        "**2.2. Cleaning the data**\n",
        "\n",
        "You might find you need to transpose your dataframe, check out what its row indexes are, and reset the index. You  also might find you need to assign the values of the first row to your column headings  . (Hint: recall the .columns feature of DataFrames, as well as the iloc[] method).\n",
        "\n",
        "Don't be afraid to use StackOverflow for help  with this."
      ]
    },
    {
      "cell_type": "code",
      "metadata": {
        "id": "cdAu1A3YoH_r",
        "colab": {
          "base_uri": "https://localhost:8080/"
        },
        "outputId": "af5beed9-3323-4a5b-b174-dc0b7dd5acc2"
      },
      "source": [
        "# Getting rid of null values helps later\n",
        "properties.loc[0] = properties.loc[0].fillna('ID', axis=0)\n",
        "\n",
        "# Make time become the features\n",
        "t_properties = properties.transpose().reset_index()\n",
        "\n",
        "# Set columns to times\n",
        "t_properties.columns = t_properties.loc[0]\n",
        "t_properties.drop(0, axis=0, inplace=True)\n",
        "\n",
        "# Get df shape\n",
        "print(t_properties.shape)"
      ],
      "execution_count": 4,
      "outputs": [
        {
          "output_type": "stream",
          "name": "stdout",
          "text": [
            "(48, 323)\n"
          ]
        }
      ]
    },
    {
      "cell_type": "code",
      "source": [
        "# Get London Borough list by ID\n",
        "boroughs = t_properties[t_properties['ID'].str.startswith('E09')]['ID']\n",
        "\n",
        "# Remove 'City of London'\n",
        "boroughs.pop(1)\n",
        "\n",
        "# Confirm number of boroughs\n",
        "len(boroughs)"
      ],
      "metadata": {
        "colab": {
          "base_uri": "https://localhost:8080/"
        },
        "id": "iyJkxPVqo1A2",
        "outputId": "1067d740-27e9-4073-a7cf-0c7ee992e56c"
      },
      "execution_count": 5,
      "outputs": [
        {
          "output_type": "execute_result",
          "data": {
            "text/plain": [
              "32"
            ]
          },
          "metadata": {},
          "execution_count": 5
        }
      ]
    },
    {
      "cell_type": "code",
      "source": [
        "# lb = pd.read_csv('/content/london_boroughs.csv')\n",
        "# boroughs = lb['Area_name'].str.replace('and ', '& ')\n",
        "# boroughs.pop(0)"
      ],
      "metadata": {
        "id": "MRDONNmtrUmI"
      },
      "execution_count": null,
      "outputs": []
    },
    {
      "cell_type": "markdown",
      "metadata": {
        "id": "o1uLbJAsoIjK"
      },
      "source": [
        "**2.3. Cleaning the data (part 2)**\n",
        "\n",
        "You might we have to **rename** a couple columns. How do you do this? The clue's pretty bold..."
      ]
    },
    {
      "cell_type": "code",
      "metadata": {
        "id": "GKkmn1AnoVZS",
        "colab": {
          "base_uri": "https://localhost:8080/"
        },
        "outputId": "fa2e9944-2876-4759-9f98-1df6a11f8cb6"
      },
      "source": [
        "# Rename column\n",
        "t_properties.rename(columns={'Unnamed: 0':'London Borough'}, inplace=True)\n",
        "\n",
        "# Filter for only borough data\n",
        "data_boroughs = t_properties[t_properties['ID'].isin(boroughs)]\n",
        "\n",
        "# Get df shape\n",
        "print(data_boroughs.shape)"
      ],
      "execution_count": 6,
      "outputs": [
        {
          "output_type": "stream",
          "name": "stdout",
          "text": [
            "(32, 323)\n"
          ]
        }
      ]
    },
    {
      "cell_type": "markdown",
      "metadata": {
        "id": "jy8BzXHmoWEw"
      },
      "source": [
        "**2.4.Transforming the data**\n",
        "\n",
        "Remember what Wes McKinney said about tidy data? \n",
        "\n",
        "You might need to **melt** your DataFrame here. "
      ]
    },
    {
      "cell_type": "code",
      "metadata": {
        "id": "S2wM0qLuo2Zt"
      },
      "source": [
        "# Melt the df\n",
        "melt = pd.melt(data_boroughs, \n",
        "               id_vars=['London Borough', 'ID'], \n",
        "               var_name='Month',\n",
        "               value_name='Average Price')\n",
        "\n",
        "# Update all values in Average Price to float\n",
        "melt['Average Price'] = melt['Average Price'].astype(float)"
      ],
      "execution_count": 7,
      "outputs": []
    },
    {
      "cell_type": "markdown",
      "metadata": {
        "id": "7kIsgAo7o3mf"
      },
      "source": [
        "Remember to make sure your column data types are all correct. Average prices, for example, should be floating point numbers... "
      ]
    },
    {
      "cell_type": "code",
      "source": [
        "# Confirm there are no non-float values in Average Price\n",
        "melt[melt['Average Price'].map(type) != float]"
      ],
      "metadata": {
        "colab": {
          "base_uri": "https://localhost:8080/",
          "height": 49
        },
        "id": "AJZyQN1cy5uH",
        "outputId": "ee9a98d3-db5d-47ff-b661-f447411e0b06"
      },
      "execution_count": 8,
      "outputs": [
        {
          "output_type": "execute_result",
          "data": {
            "text/html": [
              "\n",
              "  <div id=\"df-7da25c22-8083-40eb-884d-7bcdd51673a8\">\n",
              "    <div class=\"colab-df-container\">\n",
              "      <div>\n",
              "<style scoped>\n",
              "    .dataframe tbody tr th:only-of-type {\n",
              "        vertical-align: middle;\n",
              "    }\n",
              "\n",
              "    .dataframe tbody tr th {\n",
              "        vertical-align: top;\n",
              "    }\n",
              "\n",
              "    .dataframe thead th {\n",
              "        text-align: right;\n",
              "    }\n",
              "</style>\n",
              "<table border=\"1\" class=\"dataframe\">\n",
              "  <thead>\n",
              "    <tr style=\"text-align: right;\">\n",
              "      <th></th>\n",
              "      <th>London Borough</th>\n",
              "      <th>ID</th>\n",
              "      <th>Month</th>\n",
              "      <th>Average Price</th>\n",
              "    </tr>\n",
              "  </thead>\n",
              "  <tbody>\n",
              "  </tbody>\n",
              "</table>\n",
              "</div>\n",
              "      <button class=\"colab-df-convert\" onclick=\"convertToInteractive('df-7da25c22-8083-40eb-884d-7bcdd51673a8')\"\n",
              "              title=\"Convert this dataframe to an interactive table.\"\n",
              "              style=\"display:none;\">\n",
              "        \n",
              "  <svg xmlns=\"http://www.w3.org/2000/svg\" height=\"24px\"viewBox=\"0 0 24 24\"\n",
              "       width=\"24px\">\n",
              "    <path d=\"M0 0h24v24H0V0z\" fill=\"none\"/>\n",
              "    <path d=\"M18.56 5.44l.94 2.06.94-2.06 2.06-.94-2.06-.94-.94-2.06-.94 2.06-2.06.94zm-11 1L8.5 8.5l.94-2.06 2.06-.94-2.06-.94L8.5 2.5l-.94 2.06-2.06.94zm10 10l.94 2.06.94-2.06 2.06-.94-2.06-.94-.94-2.06-.94 2.06-2.06.94z\"/><path d=\"M17.41 7.96l-1.37-1.37c-.4-.4-.92-.59-1.43-.59-.52 0-1.04.2-1.43.59L10.3 9.45l-7.72 7.72c-.78.78-.78 2.05 0 2.83L4 21.41c.39.39.9.59 1.41.59.51 0 1.02-.2 1.41-.59l7.78-7.78 2.81-2.81c.8-.78.8-2.07 0-2.86zM5.41 20L4 18.59l7.72-7.72 1.47 1.35L5.41 20z\"/>\n",
              "  </svg>\n",
              "      </button>\n",
              "      \n",
              "  <style>\n",
              "    .colab-df-container {\n",
              "      display:flex;\n",
              "      flex-wrap:wrap;\n",
              "      gap: 12px;\n",
              "    }\n",
              "\n",
              "    .colab-df-convert {\n",
              "      background-color: #E8F0FE;\n",
              "      border: none;\n",
              "      border-radius: 50%;\n",
              "      cursor: pointer;\n",
              "      display: none;\n",
              "      fill: #1967D2;\n",
              "      height: 32px;\n",
              "      padding: 0 0 0 0;\n",
              "      width: 32px;\n",
              "    }\n",
              "\n",
              "    .colab-df-convert:hover {\n",
              "      background-color: #E2EBFA;\n",
              "      box-shadow: 0px 1px 2px rgba(60, 64, 67, 0.3), 0px 1px 3px 1px rgba(60, 64, 67, 0.15);\n",
              "      fill: #174EA6;\n",
              "    }\n",
              "\n",
              "    [theme=dark] .colab-df-convert {\n",
              "      background-color: #3B4455;\n",
              "      fill: #D2E3FC;\n",
              "    }\n",
              "\n",
              "    [theme=dark] .colab-df-convert:hover {\n",
              "      background-color: #434B5C;\n",
              "      box-shadow: 0px 1px 3px 1px rgba(0, 0, 0, 0.15);\n",
              "      filter: drop-shadow(0px 1px 2px rgba(0, 0, 0, 0.3));\n",
              "      fill: #FFFFFF;\n",
              "    }\n",
              "  </style>\n",
              "\n",
              "      <script>\n",
              "        const buttonEl =\n",
              "          document.querySelector('#df-7da25c22-8083-40eb-884d-7bcdd51673a8 button.colab-df-convert');\n",
              "        buttonEl.style.display =\n",
              "          google.colab.kernel.accessAllowed ? 'block' : 'none';\n",
              "\n",
              "        async function convertToInteractive(key) {\n",
              "          const element = document.querySelector('#df-7da25c22-8083-40eb-884d-7bcdd51673a8');\n",
              "          const dataTable =\n",
              "            await google.colab.kernel.invokeFunction('convertToInteractive',\n",
              "                                                     [key], {});\n",
              "          if (!dataTable) return;\n",
              "\n",
              "          const docLinkHtml = 'Like what you see? Visit the ' +\n",
              "            '<a target=\"_blank\" href=https://colab.research.google.com/notebooks/data_table.ipynb>data table notebook</a>'\n",
              "            + ' to learn more about interactive tables.';\n",
              "          element.innerHTML = '';\n",
              "          dataTable['output_type'] = 'display_data';\n",
              "          await google.colab.output.renderOutput(dataTable, element);\n",
              "          const docLink = document.createElement('div');\n",
              "          docLink.innerHTML = docLinkHtml;\n",
              "          element.appendChild(docLink);\n",
              "        }\n",
              "      </script>\n",
              "    </div>\n",
              "  </div>\n",
              "  "
            ],
            "text/plain": [
              "Empty DataFrame\n",
              "Columns: [London Borough, ID, Month, Average Price]\n",
              "Index: []"
            ]
          },
          "metadata": {},
          "execution_count": 8
        }
      ]
    },
    {
      "cell_type": "markdown",
      "metadata": {
        "id": "knLUXHLypOtw"
      },
      "source": [
        "**2.5. Cleaning the data (part 3)**\n",
        "\n",
        "Do we have an equal number of observations in the ID, Average Price, Month, and London Borough columns? Remember that there are only 32 London Boroughs. How many entries do you have in that column? \n",
        "\n",
        "Check out the contents of the London Borough column, and if you find null values, get rid of them however you see fit. "
      ]
    },
    {
      "cell_type": "code",
      "metadata": {
        "id": "BnvTW5a3p0fC",
        "colab": {
          "base_uri": "https://localhost:8080/"
        },
        "outputId": "2ca03b85-484c-4b9a-c73e-8405911c8017"
      },
      "source": [
        "# Confirm non-null counts match across columns\n",
        "print(melt.info())\n",
        "print('')\n",
        "print('Total number of London Boroughs is', melt['London Borough'].nunique())\n",
        "print('The presence of null values is', melt['London Borough'].isna().any())"
      ],
      "execution_count": 9,
      "outputs": [
        {
          "output_type": "stream",
          "name": "stdout",
          "text": [
            "<class 'pandas.core.frame.DataFrame'>\n",
            "RangeIndex: 10272 entries, 0 to 10271\n",
            "Data columns (total 4 columns):\n",
            " #   Column          Non-Null Count  Dtype         \n",
            "---  ------          --------------  -----         \n",
            " 0   London Borough  10272 non-null  object        \n",
            " 1   ID              10272 non-null  object        \n",
            " 2   Month           10272 non-null  datetime64[ns]\n",
            " 3   Average Price   10272 non-null  float64       \n",
            "dtypes: datetime64[ns](1), float64(1), object(2)\n",
            "memory usage: 321.1+ KB\n",
            "None\n",
            "\n",
            "Total number of London Boroughs is 32\n",
            "The presence of null values is False\n"
          ]
        }
      ]
    },
    {
      "cell_type": "markdown",
      "metadata": {
        "id": "PGEx6mJsp6dG"
      },
      "source": [
        "**2.6. Visualizing the data**\n",
        "\n",
        "To visualize the data, why not subset on a particular London Borough? Maybe do a line plot of Month against Average Price?"
      ]
    },
    {
      "cell_type": "code",
      "metadata": {
        "id": "nAg5pT9cqHAR",
        "colab": {
          "base_uri": "https://localhost:8080/",
          "height": 296
        },
        "outputId": "53903e7a-0ac3-4ecc-c639-d1ec03cfabee"
      },
      "source": [
        "melt[melt['London Borough'] == 'Lambeth'].plot(kind='line', x='Month', y='Average Price')"
      ],
      "execution_count": 16,
      "outputs": [
        {
          "output_type": "execute_result",
          "data": {
            "text/plain": [
              "<matplotlib.axes._subplots.AxesSubplot at 0x7f4f853b8110>"
            ]
          },
          "metadata": {},
          "execution_count": 16
        },
        {
          "output_type": "display_data",
          "data": {
            "image/png": "[encoded data removed]",
            "text/plain": [
              "<Figure size 432x288 with 1 Axes>"
            ]
          },
          "metadata": {
            "needs_background": "light"
          }
        }
      ]
    },
    {
      "cell_type": "markdown",
      "metadata": {
        "id": "aWTPqSJeqHnC"
      },
      "source": [
        "To limit the number of data points you have, you might want to extract the year from every month value your *Month* column. \n",
        "\n",
        "To this end, you *could* apply a ***lambda function***. Your logic could work as follows:\n",
        "1. look through the `Month` column\n",
        "2. extract the year from each individual value in that column \n",
        "3. store that corresponding year as separate column. \n",
        "\n",
        "Whether you go ahead with this is up to you. Just so long as you answer our initial brief: which boroughs of London have seen the greatest house price increase, on average, over the past two decades? "
      ]
    },
    {
      "cell_type": "code",
      "metadata": {
        "id": "e0DF92cyqnu8",
        "colab": {
          "base_uri": "https://localhost:8080/",
          "height": 296
        },
        "outputId": "aeb2268a-df0f-4410-e0f1-6fbe84684133"
      },
      "source": [
        "melt['Year'] = melt['Month'].dt.year\n",
        "melt[melt['London Borough'] == 'Lambeth'].plot(kind='line', x='Year', y='Average Price')"
      ],
      "execution_count": 17,
      "outputs": [
        {
          "output_type": "execute_result",
          "data": {
            "text/plain": [
              "<matplotlib.axes._subplots.AxesSubplot at 0x7f4f8530cf10>"
            ]
          },
          "metadata": {},
          "execution_count": 17
        },
        {
          "output_type": "display_data",
          "data": {
            "image/png": "[encoded data removed]",
            "text/plain": [
              "<Figure size 432x288 with 1 Axes>"
            ]
          },
          "metadata": {
            "needs_background": "light"
          }
        }
      ]
    },
    {
      "cell_type": "code",
      "source": [
        "# Initialize sub-dataframes\n",
        "firsts = melt['Average Price'][:32]\n",
        "lasts = melt['Average Price'][-32:]\n",
        "names = melt['London Borough'][:32]\n",
        "\n",
        "# Calculate average percent change\n",
        "price_diff = lasts.values - firsts.values\n",
        "percent_change = price_diff / firsts * 100\n",
        "year_diff = melt['Year'].max() - melt['Year'].min()\n",
        "avg_percent_change = percent_change / year_diff\n",
        "\n",
        "# Display which boroughs of London have seen the greatest house \n",
        "# price increase, on average, over the past two decades\n",
        "apc = zip(names, avg_percent_change)\n",
        "df = pd.DataFrame(apc, columns=['London Borough', 'Avg Percent Change'])\n",
        "sorted_df = df.sort_values('Avg Percent Change', ascending=False).set_index('London Borough')\n",
        "sorted_df.head().plot(kind='bar')\n",
        "plt.title('Top 5 London Borough Average Percent Change')\n",
        "plt.show()"
      ],
      "metadata": {
        "colab": {
          "base_uri": "https://localhost:8080/",
          "height": 363
        },
        "id": "iEfnS-uY_ieM",
        "outputId": "d8781dc9-22b7-476d-e5d4-31894b46a5f7"
      },
      "execution_count": 39,
      "outputs": [
        {
          "output_type": "display_data",
          "data": {
            "image/png": "[encoded data removed]",
            "text/plain": [
              "<Figure size 432x288 with 1 Axes>"
            ]
          },
          "metadata": {
            "needs_background": "light"
          }
        }
      ]
    },
    {
      "cell_type": "markdown",
      "metadata": {
        "id": "2knuTxAEqoJ4"
      },
      "source": [
        "**3. Modeling**\n",
        "\n",
        "Consider creating a function that will calculate a ratio of house prices, comparing the price of a house in 2018 to the price in 1998.\n",
        "\n",
        "Consider calling this function create_price_ratio.\n",
        "\n",
        "You'd want this function to:\n",
        "1. Take a filter of dfg, specifically where this filter constrains the London_Borough, as an argument. For example, one admissible argument should be: dfg[dfg['London_Borough']=='Camden'].\n",
        "2. Get the Average Price for that Borough, for the years 1998 and 2018.\n",
        "4. Calculate the ratio of the Average Price for 1998 divided by the Average Price for 2018.\n",
        "5. Return that ratio.\n",
        "\n",
        "Once you've written this function, you ultimately want to use it to iterate through all the unique London_Boroughs and work out the ratio capturing the difference of house prices between 1998 and 2018.\n",
        "\n",
        "Bear in mind: you don't have to write a function like this if you don't want to. If you can solve the brief otherwise, then great! \n",
        "\n",
        "***Hint***: This section should test the skills you acquired in:\n",
        "- Python Data Science Toolbox - Part One, all modules"
      ]
    },
    {
      "cell_type": "code",
      "metadata": {
        "id": "cKTyr437UgDa",
        "colab": {
          "base_uri": "https://localhost:8080/",
          "height": 363
        },
        "outputId": "27d0041b-c692-448d-b53a-82ecd970aeb6"
      },
      "source": [
        "# Initialize values\n",
        "dfg = melt\n",
        "ratio_list = list()\n",
        "\n",
        "# Function which creates the price ratio between 1998 and 2018\n",
        "def create_price_ratio(borough):\n",
        "  b_df = dfg[dfg['London Borough'] == borough]\n",
        "  b_df_price = b_df.groupby('Year')['Average Price'].mean()\n",
        "  ratio = b_df_price[2018] / b_df_price[1998]\n",
        "  return ratio\n",
        "\n",
        "# Create list of ratios\n",
        "for name in names:\n",
        "  ratio = create_price_ratio(name)\n",
        "  ratio_list.append(ratio)\n",
        "\n",
        "# Display which boroughs of London have seen the greatest house \n",
        "# price ratio increase between 1998 and 2018\n",
        "zip_file = zip(names, ratio_list)\n",
        "df = pd.DataFrame(zip_file, columns=['London Borough', 'Ratio'])\n",
        "sorted_df = df.sort_values('Ratio', ascending=False).set_index('London Borough')\n",
        "sorted_df.head().plot(kind='bar')\n",
        "plt.title('Top 5 London Borough Price Ratio Increase from 1998 to 2018')\n",
        "plt.show()"
      ],
      "execution_count": 63,
      "outputs": [
        {
          "output_type": "display_data",
          "data": {
            "image/png": "[encoded data removed]",
            "text/plain": [
              "<Figure size 432x288 with 1 Axes>"
            ]
          },
          "metadata": {
            "needs_background": "light"
          }
        }
      ]
    },
    {
      "cell_type": "code",
      "source": [
        "zip_file = zip(names, firsts)\n",
        "new_df = pd.DataFrame(zip_file, columns=['London Borough', 'Price'])\n",
        "sorted_df = new_df.sort_values('Price', ascending=False).set_index('London Borough')\n",
        "sorted_df.head().plot(kind='bar')\n",
        "plt.title('Top 5 Most Expensive London Borough in 1995')\n",
        "plt.show()"
      ],
      "metadata": {
        "colab": {
          "base_uri": "https://localhost:8080/",
          "height": 407
        },
        "id": "FokoyETDZmY2",
        "outputId": "6af86162-ad94-4002-8f63-08d81af8fd9d"
      },
      "execution_count": 64,
      "outputs": [
        {
          "output_type": "display_data",
          "data": {
            "image/png": "[encoded data removed]",
            "text/plain": [
              "<Figure size 432x288 with 1 Axes>"
            ]
          },
          "metadata": {
            "needs_background": "light"
          }
        }
      ]
    },
    {
      "cell_type": "code",
      "source": [
        "sorted_df.reset_index(inplace=True)\n",
        "hackney_1995 = sorted_df[sorted_df['London Borough'] == 'Hackney'].index.values\n",
        "print('Hackney 1995 ranking for most expensive borough is', *hackney_1995)"
      ],
      "metadata": {
        "colab": {
          "base_uri": "https://localhost:8080/"
        },
        "id": "tkbl_2UJiFV8",
        "outputId": "281a5445-4efd-4ae5-be2b-806512c369ef"
      },
      "execution_count": 65,
      "outputs": [
        {
          "output_type": "stream",
          "name": "stdout",
          "text": [
            "Hackney 1995 ranking for most expensive borough is 27\n"
          ]
        }
      ]
    },
    {
      "cell_type": "code",
      "source": [
        "zip_file = zip(names, lasts)\n",
        "new_df = pd.DataFrame(zip_file, columns=['London Borough', 'Price'])\n",
        "sorted_df = new_df.sort_values('Price', ascending=False).set_index('London Borough')\n",
        "sorted_df.head().plot(kind='bar')\n",
        "plt.title('Top 5 Most Expensive London Borough in 2021')\n",
        "plt.show()"
      ],
      "metadata": {
        "colab": {
          "base_uri": "https://localhost:8080/",
          "height": 407
        },
        "id": "pbfGBQzuaZjt",
        "outputId": "7e97dabb-cebf-4e4f-dc53-7b03a7a6c514"
      },
      "execution_count": 66,
      "outputs": [
        {
          "output_type": "display_data",
          "data": {
            "image/png": "[encoded data removed]",
            "text/plain": [
              "<Figure size 432x288 with 1 Axes>"
            ]
          },
          "metadata": {
            "needs_background": "light"
          }
        }
      ]
    },
    {
      "cell_type": "code",
      "source": [
        "sorted_df.reset_index(inplace=True)\n",
        "hackney_2021 = sorted_df[sorted_df['London Borough'] == 'Hackney'].index.values\n",
        "print('Hackney 2021 ranking for most expensive borough is', *hackney_2021)"
      ],
      "metadata": {
        "colab": {
          "base_uri": "https://localhost:8080/"
        },
        "id": "MQYELfyziI5I",
        "outputId": "ec7ba573-a95e-4125-a3c6-c7dc92a663e7"
      },
      "execution_count": 67,
      "outputs": [
        {
          "output_type": "stream",
          "name": "stdout",
          "text": [
            "Hackney 2021 ranking for most expensive borough is 6\n"
          ]
        }
      ]
    },
    {
      "cell_type": "markdown",
      "metadata": {
        "id": "NzYUI7FxJpgv"
      },
      "source": [
        "### 4. Conclusion\n",
        "What can you conclude? Type out your conclusion below. \n",
        "\n",
        "Look back at your notebook. Think about how you might summarize what you have done, and prepare a quick presentation on it to your mentor at your next meeting. \n",
        "\n",
        "We hope you enjoyed this practical project. It should have consolidated your data hygiene and pandas skills by looking at a real-world problem involving just the kind of dataset you might encounter as a budding data scientist. Congratulations, and looking forward to seeing you at the next step in the course! "
      ]
    },
    {
      "cell_type": "markdown",
      "source": [
        "# Analysis Conclusion\n",
        "# These boroughs have seen high, consistent growth throughout all of the years included in the data:\n",
        "\n",
        "# *   **Hackney**\n",
        "# *   **Waltham Forest**\n",
        "# *   **Southwark**\n",
        "\n",
        "# They are all included in both high performance dataframes."
      ],
      "metadata": {
        "id": "Ouy_n_0bRPq4"
      }
    }
  ]
}