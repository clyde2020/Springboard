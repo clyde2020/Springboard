{
  "nbformat": 4,
  "nbformat_minor": 0,
  "metadata": {
    "colab": {
      "name": "8.3.3 Country Club[Marcus Anderson].ipynb",
      "provenance": [],
      "collapsed_sections": [],
      "authorship_tag": "ABX9TyPQPQnNZg4i/z2biCUnjQ1P",
      "include_colab_link": true
    },
    "kernelspec": {
      "name": "python3",
      "display_name": "Python 3"
    },
    "language_info": {
      "name": "python"
    }
  },
  "cells": [
    {
      "cell_type": "markdown",
      "metadata": {
        "id": "view-in-github",
        "colab_type": "text"
      },
      "source": [
        "<a href=\"https://colab.research.google.com/github/clyde2020/Springboard/blob/main/8_3_3_Country_Club%5BMarcus_Anderson%5D.ipynb\" target=\"_parent\"><img src=\"https://colab.research.google.com/assets/colab-badge.svg\" alt=\"Open In Colab\"/></a>"
      ]
    },
    {
      "cell_type": "markdown",
      "source": [
        "SQLTasks Tier 2"
      ],
      "metadata": {
        "id": "CkBsuecTWeI7"
      }
    },
    {
      "cell_type": "code",
      "source": [
        "import sqlite3\n",
        "\n",
        "conn = sqlite3.connect('/content/sqlite_db_pythonsqlite.db')"
      ],
      "metadata": {
        "id": "eCYT87Ci35xO"
      },
      "execution_count": 6,
      "outputs": []
    },
    {
      "cell_type": "markdown",
      "source": [
        "Question 10"
      ],
      "metadata": {
        "id": "JduryHTx3eC3"
      }
    },
    {
      "cell_type": "code",
      "source": [
        "cursor = conn.execute('''\n",
        "select name, sum(revenue) as rev\n",
        "from (select f.name,\n",
        "\tcase when b.memid = 0 then guestcost * slots\n",
        "\telse membercost * slots \n",
        "    end as revenue\n",
        "      \n",
        "\tfrom Bookings as b\n",
        "    left join Facilities as f\n",
        "\ton b.facid = f.facid\n",
        "\n",
        "\tleft join Members as m\n",
        "\ton b.memid = m.memid) as x\n",
        "\n",
        "group by x.name\n",
        "having rev < 1000\n",
        "order by rev\n",
        "  ''')\n",
        "\n",
        "\n",
        "for row in cursor:\n",
        "  print(row)"
      ],
      "metadata": {
        "id": "2UqcH_Yj7xc0",
        "colab": {
          "base_uri": "https://localhost:8080/"
        },
        "outputId": "212ce08f-b0d0-469a-aabb-2dc3ae5bed8c"
      },
      "execution_count": 7,
      "outputs": [
        {
          "output_type": "stream",
          "name": "stdout",
          "text": [
            "('Table Tennis', 180)\n",
            "('Snooker Table', 240)\n",
            "('Pool Table', 270)\n"
          ]
        }
      ]
    },
    {
      "cell_type": "markdown",
      "source": [
        "Question 11"
      ],
      "metadata": {
        "id": "atm9QWEQ3gk_"
      }
    },
    {
      "cell_type": "code",
      "source": [
        "cursor = conn.execute('''\n",
        "select m1.surname, m1.firstname, m2.surname, m2.firstname\n",
        "from Members as m1\n",
        "inner join Members as m2\n",
        "on m1.recommendedby = m2.memid  \n",
        "\n",
        "order by m1.surname\n",
        "''')\n",
        "     \n",
        "\n",
        "for row in cursor:\n",
        "  print(row)"
      ],
      "metadata": {
        "id": "s37-jEs8DUQQ",
        "colab": {
          "base_uri": "https://localhost:8080/"
        },
        "outputId": "cfb6ad74-afee-45d4-88f6-b510c3ffbd3d"
      },
      "execution_count": 8,
      "outputs": [
        {
          "output_type": "stream",
          "name": "stdout",
          "text": [
            "('Bader', 'Florence', 'Stibbons', 'Ponder')\n",
            "('Baker', 'Anne', 'Stibbons', 'Ponder')\n",
            "('Baker', 'Timothy', 'Farrell', 'Jemima')\n",
            "('Boothe', 'Tim', 'Rownam', 'Tim')\n",
            "('Butters', 'Gerald', 'Smith', 'Darren')\n",
            "('Coplin', 'Joan', 'Baker', 'Timothy')\n",
            "('Crumpet', 'Erica', 'Smith', 'Tracy')\n",
            "('Dare', 'Nancy', 'Joplette', 'Janice')\n",
            "('Genting', 'Matthew', 'Butters', 'Gerald')\n",
            "('Hunt', 'John', 'Purview', 'Millicent')\n",
            "('Jones', 'David', 'Joplette', 'Janice')\n",
            "('Jones', 'Douglas', 'Jones', 'David')\n",
            "('Joplette', 'Janice', 'Smith', 'Darren')\n",
            "('Mackenzie', 'Anna', 'Smith', 'Darren')\n",
            "('Owen', 'Charles', 'Smith', 'Darren')\n",
            "('Pinker', 'David', 'Farrell', 'Jemima')\n",
            "('Purview', 'Millicent', 'Smith', 'Tracy')\n",
            "('Rumney', 'Henrietta', 'Genting', 'Matthew')\n",
            "('Sarwin', 'Ramnaresh', 'Bader', 'Florence')\n",
            "('Smith', 'Jack', 'Smith', 'Darren')\n",
            "('Stibbons', 'Ponder', 'Tracy', 'Burton')\n",
            "('Worthington-Smyth', 'Henry', 'Smith', 'Tracy')\n"
          ]
        }
      ]
    },
    {
      "cell_type": "markdown",
      "source": [
        "Question 12"
      ],
      "metadata": {
        "id": "MKhbzo8x3isN"
      }
    },
    {
      "cell_type": "code",
      "source": [
        "cursor = conn.execute('''\n",
        "select f.name, m.firstname || ' ' || m.surname as fullname, sum(slots) as num_slots\n",
        "from Bookings as b\n",
        "left join Facilities as f\n",
        "on b.facid = f.facid\n",
        "left join Members as m\n",
        "on b.memid = m.memid\n",
        "where b.memid != 0\n",
        "group by name, fullname\n",
        "\n",
        "order by name\n",
        "     \n",
        "  ''')\n",
        "for row in cursor:\n",
        "  print(row)"
      ],
      "metadata": {
        "id": "IczoA4wcPqip",
        "colab": {
          "base_uri": "https://localhost:8080/"
        },
        "outputId": "64a0070c-54d0-4bb5-9b17-fedfb2f4e5b3"
      },
      "execution_count": 9,
      "outputs": [
        {
          "output_type": "stream",
          "name": "stdout",
          "text": [
            "('Badminton Court', 'Anna Mackenzie', 96)\n",
            "('Badminton Court', 'Anne Baker', 30)\n",
            "('Badminton Court', 'Burton Tracy', 6)\n",
            "('Badminton Court', 'Charles Owen', 18)\n",
            "('Badminton Court', 'Darren Smith', 432)\n",
            "('Badminton Court', 'David Jones', 24)\n",
            "('Badminton Court', 'David Pinker', 21)\n",
            "('Badminton Court', 'Douglas Jones', 6)\n",
            "('Badminton Court', 'Erica Crumpet', 6)\n",
            "('Badminton Court', 'Florence Bader', 27)\n",
            "('Badminton Court', 'Gerald Butters', 63)\n",
            "('Badminton Court', 'Henry Worthington-Smyth', 15)\n",
            "('Badminton Court', 'Hyacinth Tupperware', 3)\n",
            "('Badminton Court', 'Jack Smith', 36)\n",
            "('Badminton Court', 'Jemima Farrell', 21)\n",
            "('Badminton Court', 'John Hunt', 6)\n",
            "('Badminton Court', 'Millicent Purview', 6)\n",
            "('Badminton Court', 'Nancy Dare', 30)\n",
            "('Badminton Court', 'Ponder Stibbons', 48)\n",
            "('Badminton Court', 'Ramnaresh Sarwin', 21)\n",
            "('Badminton Court', 'Tim Boothe', 36)\n",
            "('Badminton Court', 'Tim Rownam', 12)\n",
            "('Badminton Court', 'Timothy Baker', 21)\n",
            "('Badminton Court', 'Tracy Smith', 102)\n",
            "('Massage Room 1', 'Anna Mackenzie', 2)\n",
            "('Massage Room 1', 'Anne Baker', 6)\n",
            "('Massage Room 1', 'Burton Tracy', 62)\n",
            "('Massage Room 1', 'Charles Owen', 22)\n",
            "('Massage Room 1', 'Darren Smith', 58)\n",
            "('Massage Room 1', 'David Jones', 40)\n",
            "('Massage Room 1', 'David Pinker', 6)\n",
            "('Massage Room 1', 'Erica Crumpet', 4)\n",
            "('Massage Room 1', 'Gerald Butters', 66)\n",
            "('Massage Room 1', 'Henry Worthington-Smyth', 2)\n",
            "('Massage Room 1', 'Hyacinth Tupperware', 2)\n",
            "('Massage Room 1', 'Jack Smith', 54)\n",
            "('Massage Room 1', 'Janice Joplette', 24)\n",
            "('Massage Room 1', 'Jemima Farrell', 68)\n",
            "('Massage Room 1', 'Joan Coplin', 2)\n",
            "('Massage Room 1', 'John Hunt', 6)\n",
            "('Massage Room 1', 'Matthew Genting', 52)\n",
            "('Massage Room 1', 'Nancy Dare', 38)\n",
            "('Massage Room 1', 'Ponder Stibbons', 40)\n",
            "('Massage Room 1', 'Ramnaresh Sarwin', 16)\n",
            "('Massage Room 1', 'Tim Boothe', 76)\n",
            "('Massage Room 1', 'Tim Rownam', 176)\n",
            "('Massage Room 1', 'Timothy Baker', 50)\n",
            "('Massage Room 1', 'Tracy Smith', 12)\n",
            "('Massage Room 2', 'Anne Baker', 4)\n",
            "('Massage Room 2', 'Charles Owen', 4)\n",
            "('Massage Room 2', 'David Jones', 8)\n",
            "('Massage Room 2', 'Florence Bader', 4)\n",
            "('Massage Room 2', 'Gerald Butters', 2)\n",
            "('Massage Room 2', 'Jack Smith', 2)\n",
            "('Massage Room 2', 'Janice Joplette', 4)\n",
            "('Massage Room 2', 'Joan Coplin', 4)\n",
            "('Massage Room 2', 'Matthew Genting', 2)\n",
            "('Massage Room 2', 'Nancy Dare', 10)\n",
            "('Massage Room 2', 'Ramnaresh Sarwin', 6)\n",
            "('Massage Room 2', 'Tim Rownam', 4)\n",
            "('Pool Table', 'Anna Mackenzie', 83)\n",
            "('Pool Table', 'Anne Baker', 12)\n",
            "('Pool Table', 'Burton Tracy', 30)\n",
            "('Pool Table', 'Charles Owen', 1)\n",
            "('Pool Table', 'Darren Smith', 28)\n",
            "('Pool Table', 'David Farrell', 25)\n",
            "('Pool Table', 'David Jones', 8)\n",
            "('Pool Table', 'David Pinker', 9)\n",
            "('Pool Table', 'Douglas Jones', 2)\n",
            "('Pool Table', 'Florence Bader', 23)\n",
            "('Pool Table', 'Gerald Butters', 6)\n",
            "('Pool Table', 'Henrietta Rumney', 3)\n",
            "('Pool Table', 'Henry Worthington-Smyth', 37)\n",
            "('Pool Table', 'Hyacinth Tupperware', 9)\n",
            "('Pool Table', 'Jack Smith', 7)\n",
            "('Pool Table', 'Janice Joplette', 27)\n",
            "('Pool Table', 'Jemima Farrell', 1)\n",
            "('Pool Table', 'Joan Coplin', 11)\n",
            "('Pool Table', 'Matthew Genting', 18)\n",
            "('Pool Table', 'Millicent Purview', 5)\n",
            "('Pool Table', 'Nancy Dare', 19)\n",
            "('Pool Table', 'Ponder Stibbons', 12)\n",
            "('Pool Table', 'Ramnaresh Sarwin', 13)\n",
            "('Pool Table', 'Tim Boothe', 26)\n",
            "('Pool Table', 'Tim Rownam', 282)\n",
            "('Pool Table', 'Timothy Baker', 95)\n",
            "('Pool Table', 'Tracy Smith', 64)\n",
            "('Snooker Table', 'Anna Mackenzie', 14)\n",
            "('Snooker Table', 'Burton Tracy', 40)\n",
            "('Snooker Table', 'Charles Owen', 44)\n",
            "('Snooker Table', 'Darren Smith', 24)\n",
            "('Snooker Table', 'David Farrell', 2)\n",
            "('Snooker Table', 'David Jones', 4)\n",
            "('Snooker Table', 'David Pinker', 32)\n",
            "('Snooker Table', 'Florence Bader', 66)\n",
            "('Snooker Table', 'Gerald Butters', 72)\n",
            "('Snooker Table', 'Henrietta Rumney', 28)\n",
            "('Snooker Table', 'Hyacinth Tupperware', 12)\n",
            "('Snooker Table', 'Jack Smith', 10)\n",
            "('Snooker Table', 'Janice Joplette', 142)\n",
            "('Snooker Table', 'Jemima Farrell', 44)\n",
            "('Snooker Table', 'Joan Coplin', 20)\n",
            "('Snooker Table', 'Matthew Genting', 2)\n",
            "('Snooker Table', 'Millicent Purview', 2)\n",
            "('Snooker Table', 'Nancy Dare', 46)\n",
            "('Snooker Table', 'Ponder Stibbons', 40)\n",
            "('Snooker Table', 'Ramnaresh Sarwin', 36)\n",
            "('Snooker Table', 'Tim Boothe', 90)\n",
            "('Snooker Table', 'Tracy Smith', 90)\n",
            "('Squash Court', 'Anna Mackenzie', 4)\n",
            "('Squash Court', 'Anne Baker', 110)\n",
            "('Squash Court', 'Burton Tracy', 78)\n",
            "('Squash Court', 'Charles Owen', 14)\n",
            "('Squash Court', 'Darren Smith', 30)\n",
            "('Squash Court', 'David Farrell', 2)\n",
            "('Squash Court', 'David Jones', 16)\n",
            "('Squash Court', 'David Pinker', 6)\n",
            "('Squash Court', 'Douglas Jones', 2)\n",
            "('Squash Court', 'Florence Bader', 4)\n",
            "('Squash Court', 'Gerald Butters', 18)\n",
            "('Squash Court', 'Henrietta Rumney', 4)\n",
            "('Squash Court', 'Hyacinth Tupperware', 2)\n",
            "('Squash Court', 'Jack Smith', 22)\n",
            "('Squash Court', 'Janice Joplette', 30)\n",
            "('Squash Court', 'Jemima Farrell', 16)\n",
            "('Squash Court', 'Joan Coplin', 2)\n",
            "('Squash Court', 'John Hunt', 2)\n",
            "('Squash Court', 'Millicent Purview', 2)\n",
            "('Squash Court', 'Ponder Stibbons', 4)\n",
            "('Squash Court', 'Ramnaresh Sarwin', 4)\n",
            "('Squash Court', 'Tim Boothe', 24)\n",
            "('Squash Court', 'Timothy Baker', 10)\n",
            "('Squash Court', 'Tracy Smith', 12)\n",
            "('Table Tennis', 'Anna Mackenzie', 32)\n",
            "('Table Tennis', 'Anne Baker', 2)\n",
            "('Table Tennis', 'Burton Tracy', 48)\n",
            "('Table Tennis', 'Charles Owen', 50)\n",
            "('Table Tennis', 'Darren Smith', 56)\n",
            "('Table Tennis', 'David Jones', 22)\n",
            "('Table Tennis', 'David Pinker', 34)\n",
            "('Table Tennis', 'Erica Crumpet', 4)\n",
            "('Table Tennis', 'Florence Bader', 86)\n",
            "('Table Tennis', 'Gerald Butters', 2)\n",
            "('Table Tennis', 'Henry Worthington-Smyth', 6)\n",
            "('Table Tennis', 'Jack Smith', 10)\n",
            "('Table Tennis', 'Janice Joplette', 18)\n",
            "('Table Tennis', 'Jemima Farrell', 24)\n",
            "('Table Tennis', 'Joan Coplin', 46)\n",
            "('Table Tennis', 'John Hunt', 2)\n",
            "('Table Tennis', 'Matthew Genting', 54)\n",
            "('Table Tennis', 'Millicent Purview', 14)\n",
            "('Table Tennis', 'Nancy Dare', 10)\n",
            "('Table Tennis', 'Ponder Stibbons', 6)\n",
            "('Table Tennis', 'Ramnaresh Sarwin', 6)\n",
            "('Table Tennis', 'Tim Boothe', 8)\n",
            "('Table Tennis', 'Tim Rownam', 150)\n",
            "('Table Tennis', 'Timothy Baker', 48)\n",
            "('Table Tennis', 'Tracy Smith', 56)\n",
            "('Tennis Court 1', 'Anne Baker', 18)\n",
            "('Tennis Court 1', 'Burton Tracy', 93)\n",
            "('Tennis Court 1', 'Charles Owen', 51)\n",
            "('Tennis Court 1', 'David Farrell', 18)\n",
            "('Tennis Court 1', 'David Jones', 84)\n",
            "('Tennis Court 1', 'David Pinker', 51)\n",
            "('Tennis Court 1', 'Douglas Jones', 27)\n",
            "('Tennis Court 1', 'Erica Crumpet', 3)\n",
            "('Tennis Court 1', 'Florence Bader', 3)\n",
            "('Tennis Court 1', 'Gerald Butters', 171)\n",
            "('Tennis Court 1', 'Jack Smith', 75)\n",
            "('Tennis Court 1', 'Janice Joplette', 57)\n",
            "('Tennis Court 1', 'Jemima Farrell', 3)\n",
            "('Tennis Court 1', 'Joan Coplin', 21)\n",
            "('Tennis Court 1', 'John Hunt', 12)\n",
            "('Tennis Court 1', 'Matthew Genting', 3)\n",
            "('Tennis Court 1', 'Nancy Dare', 81)\n",
            "('Tennis Court 1', 'Ponder Stibbons', 3)\n",
            "('Tennis Court 1', 'Ramnaresh Sarwin', 15)\n",
            "('Tennis Court 1', 'Tim Boothe', 12)\n",
            "('Tennis Court 1', 'Tim Rownam', 18)\n",
            "('Tennis Court 1', 'Timothy Baker', 45)\n",
            "('Tennis Court 1', 'Tracy Smith', 93)\n",
            "('Tennis Court 2', 'Anne Baker', 114)\n",
            "('Tennis Court 2', 'Burton Tracy', 9)\n",
            "('Tennis Court 2', 'Charles Owen', 141)\n",
            "('Tennis Court 2', 'Darren Smith', 57)\n",
            "('Tennis Court 2', 'David Farrell', 3)\n",
            "('Tennis Court 2', 'David Jones', 99)\n",
            "('Tennis Court 2', 'Florence Bader', 24)\n",
            "('Tennis Court 2', 'Gerald Butters', 9)\n",
            "('Tennis Court 2', 'Henrietta Rumney', 3)\n",
            "('Tennis Court 2', 'Jack Smith', 3)\n",
            "('Tennis Court 2', 'Janice Joplette', 24)\n",
            "('Tennis Court 2', 'Jemima Farrell', 3)\n",
            "('Tennis Court 2', 'John Hunt', 12)\n",
            "('Tennis Court 2', 'Millicent Purview', 3)\n",
            "('Tennis Court 2', 'Nancy Dare', 33)\n",
            "('Tennis Court 2', 'Ponder Stibbons', 96)\n",
            "('Tennis Court 2', 'Ramnaresh Sarwin', 36)\n",
            "('Tennis Court 2', 'Tim Boothe', 168)\n",
            "('Tennis Court 2', 'Tim Rownam', 18)\n",
            "('Tennis Court 2', 'Timothy Baker', 21)\n",
            "('Tennis Court 2', 'Tracy Smith', 6)\n"
          ]
        }
      ]
    },
    {
      "cell_type": "markdown",
      "source": [
        "Question 13"
      ],
      "metadata": {
        "id": "5rrwdVKlKvXf"
      }
    },
    {
      "cell_type": "code",
      "source": [
        "cursor = conn.execute('''\n",
        "select f.name, strftime('%m', starttime) as month, sum(slots)\n",
        "\n",
        "from Bookings as b\n",
        "left join Facilities as f\n",
        "on b.facid = f.facid\n",
        "where b.memid != 0\n",
        "\n",
        "group by name, month\n",
        "order by name, month\n",
        "     \n",
        "  ''')\n",
        "for row in cursor:\n",
        "  print(row)"
      ],
      "metadata": {
        "id": "6m0ijqKUPDaN",
        "colab": {
          "base_uri": "https://localhost:8080/"
        },
        "outputId": "cda5529a-db0a-4f45-d1d9-54dac9568e85"
      },
      "execution_count": 10,
      "outputs": [
        {
          "output_type": "stream",
          "name": "stdout",
          "text": [
            "('Badminton Court', '07', 165)\n",
            "('Badminton Court', '08', 414)\n",
            "('Badminton Court', '09', 507)\n",
            "('Massage Room 1', '07', 166)\n",
            "('Massage Room 1', '08', 316)\n",
            "('Massage Room 1', '09', 402)\n",
            "('Massage Room 2', '07', 8)\n",
            "('Massage Room 2', '08', 18)\n",
            "('Massage Room 2', '09', 28)\n",
            "('Pool Table', '07', 110)\n",
            "('Pool Table', '08', 303)\n",
            "('Pool Table', '09', 443)\n",
            "('Snooker Table', '07', 140)\n",
            "('Snooker Table', '08', 316)\n",
            "('Snooker Table', '09', 404)\n",
            "('Squash Court', '07', 50)\n",
            "('Squash Court', '08', 184)\n",
            "('Squash Court', '09', 184)\n",
            "('Table Tennis', '07', 98)\n",
            "('Table Tennis', '08', 296)\n",
            "('Table Tennis', '09', 400)\n",
            "('Tennis Court 1', '07', 201)\n",
            "('Tennis Court 1', '08', 339)\n",
            "('Tennis Court 1', '09', 417)\n",
            "('Tennis Court 2', '07', 123)\n",
            "('Tennis Court 2', '08', 345)\n",
            "('Tennis Court 2', '09', 414)\n"
          ]
        }
      ]
    },
    {
      "cell_type": "code",
      "source": [
        ""
      ],
      "metadata": {
        "id": "gJngNvFZWvPf"
      },
      "execution_count": null,
      "outputs": []
    }
  ]
}